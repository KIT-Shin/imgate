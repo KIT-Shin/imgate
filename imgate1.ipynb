{
 "cells": [
  {
   "cell_type": "markdown",
   "metadata": {},
   "source": [
    "## データの作成・前処理"
   ]
  },
  {
   "cell_type": "code",
   "execution_count": 1,
   "metadata": {},
   "outputs": [
    {
     "name": "stderr",
     "output_type": "stream",
     "text": [
      "Using TensorFlow backend.\n"
     ]
    }
   ],
   "source": [
    "# ライブラリの読み込み\n",
    "import cv2 # opencv\n",
    "import numpy as np\n",
    "import matplotlib.pyplot as plt\n",
    "%matplotlib inline\n",
    "\n",
    "#警告の非表示\n",
    "import warnings\n",
    "warnings.filterwarnings('ignore')\n",
    "\n",
    "import random\n",
    "\n",
    "#kerasではバックエンドでTensorFlowを回しているのでkeras使用時は毎回importする。\n",
    "import tensorflow as tf\n",
    "import keras\n",
    "\n",
    "#層構造のモデルを定義するためのメソッド（kerasのモデル構築で必ず使う）\n",
    "from keras.models import Sequential\n",
    "\n",
    "# Denseは層の生成メソッド、Activationは活性化関数を定義するためのメソッド\n",
    "#Flattenは二次元配列を一次元配列に変換する層\n",
    "from keras.layers import Dense, Activation, Flatten\n",
    "\n",
    "#SGD：ディープラーニングにおいて最も基本的な最適化手法\n",
    "from keras.optimizers import SGD"
   ]
  },
  {
   "cell_type": "code",
   "execution_count": 2,
   "metadata": {},
   "outputs": [
    {
     "data": {
      "text/plain": [
       "'1.6.0'"
      ]
     },
     "execution_count": 2,
     "metadata": {},
     "output_type": "execute_result"
    }
   ],
   "source": [
    "tf.__version__"
   ]
  },
  {
   "cell_type": "code",
   "execution_count": 3,
   "metadata": {},
   "outputs": [
    {
     "data": {
      "text/plain": [
       "'2.0.0'"
      ]
     },
     "execution_count": 3,
     "metadata": {},
     "output_type": "execute_result"
    }
   ],
   "source": [
    "keras.__version__"
   ]
  },
  {
   "cell_type": "code",
   "execution_count": 4,
   "metadata": {},
   "outputs": [],
   "source": [
    "raw_images=[[None for j in range(5)] for i in range(1000)]"
   ]
  },
  {
   "cell_type": "code",
   "execution_count": 5,
   "metadata": {},
   "outputs": [],
   "source": [
    "#starの読み込み\n",
    "raw_images[0] = [cv2.imread('image/image1(star)/star1.png'),\n",
    "cv2.imread('image/image1(star)/star2.png'),\n",
    "cv2.imread('image/image1(star)/star3.png'),\n",
    "cv2.imread('image/image1(star)/star4.png'),\n",
    "cv2.imread('image/image1(star)/star5.png')]"
   ]
  },
  {
   "cell_type": "code",
   "execution_count": 6,
   "metadata": {},
   "outputs": [],
   "source": [
    "#sunの読み込み\n",
    "raw_images[1] = [cv2.imread('image/image2(sun)/sun1.png'),\n",
    "cv2.imread('image/image2(sun)/sun2.png'),\n",
    "cv2.imread('image/image2(sun)/sun3.png'),\n",
    "cv2.imread('image/image2(sun)/sun4.png'),\n",
    "cv2.imread('image/image2(sun)/sun5.png')]"
   ]
  },
  {
   "cell_type": "code",
   "execution_count": 7,
   "metadata": {},
   "outputs": [],
   "source": [
    "#catの読み込み\n",
    "raw_images[2] = [cv2.imread('image/image3(cat)/cat1.png'),\n",
    "cv2.imread('image/image3(cat)/cat2.png'),\n",
    "cv2.imread('image/image3(cat)/cat3.png'),\n",
    "cv2.imread('image/image3(cat)/cat4.png'),\n",
    "cv2.imread('image/image3(cat)/cat5.png')]"
   ]
  },
  {
   "cell_type": "code",
   "execution_count": 8,
   "metadata": {},
   "outputs": [],
   "source": [
    "#appleの読み込み\n",
    "raw_images[3] = [cv2.imread('image/image4(apple)/apple1.png'),\n",
    "cv2.imread('image/image4(apple)/apple2.png'),\n",
    "cv2.imread('image/image4(apple)/apple3.png'),\n",
    "cv2.imread('image/image4(apple)/apple4.png'),\n",
    "cv2.imread('image/image4(apple)/apple5.png')]"
   ]
  },
  {
   "cell_type": "code",
   "execution_count": 9,
   "metadata": {},
   "outputs": [],
   "source": [
    "#houseの読み込み\n",
    "raw_images[4] = [cv2.imread('image/image5(house)/house1.png'),\n",
    "cv2.imread('image/image5(house)/house2.png'),\n",
    "cv2.imread('image/image5(house)/house3.png'),\n",
    "cv2.imread('image/image5(house)/house4.png'),\n",
    "cv2.imread('image/image5(house)/house5.png')]"
   ]
  },
  {
   "cell_type": "code",
   "execution_count": 10,
   "metadata": {},
   "outputs": [],
   "source": [
    "#smileの読み込み\n",
    "raw_images[5] = [cv2.imread('image/image6(smile)/smile1.png'),\n",
    "cv2.imread('image/image6(smile)/smile2.png'),\n",
    "cv2.imread('image/image6(smile)/smile3.png'),\n",
    "cv2.imread('image/image6(smile)/smile4.png'),\n",
    "cv2.imread('image/image6(smile)/smile5.png')]"
   ]
  },
  {
   "cell_type": "code",
   "execution_count": 11,
   "metadata": {},
   "outputs": [],
   "source": [
    "#cubeの読み込み\n",
    "raw_images[6] = [cv2.imread('image/image7(cube)/cube1.png'),\n",
    "cv2.imread('image/image7(cube)/cube2.png'),\n",
    "cv2.imread('image/image7(cube)/cube3.png'),\n",
    "cv2.imread('image/image7(cube)/cube4.png'),\n",
    "cv2.imread('image/image7(cube)/cube5.png')]"
   ]
  },
  {
   "cell_type": "code",
   "execution_count": 12,
   "metadata": {},
   "outputs": [],
   "source": [
    "#cupの読み込み\n",
    "raw_images[7] = [cv2.imread('image/image8(cup)/cup1.png'),\n",
    "cv2.imread('image/image8(cup)/cup2.png'),\n",
    "cv2.imread('image/image8(cup)/cup3.png'),\n",
    "cv2.imread('image/image8(cup)/cup4.png'),\n",
    "cv2.imread('image/image8(cup)/cup5.png')]"
   ]
  },
  {
   "cell_type": "code",
   "execution_count": 13,
   "metadata": {},
   "outputs": [],
   "source": [
    "#Ryomaの読み込み\n",
    "raw_images[8] = [cv2.imread('image/image9(Ryoma)/Ryoma1.png'),\n",
    "cv2.imread('image/image9(Ryoma)/Ryoma2.png'),\n",
    "cv2.imread('image/image9(Ryoma)/Ryoma3.png'),\n",
    "cv2.imread('image/image9(Ryoma)/Ryoma4.png'),\n",
    "cv2.imread('image/image9(Ryoma)/Ryoma5.png')]"
   ]
  },
  {
   "cell_type": "code",
   "execution_count": 14,
   "metadata": {},
   "outputs": [],
   "source": [
    "#keyの読み込み\n",
    "raw_images[9] = [cv2.imread('image/image10(key)/key1.png'),\n",
    "cv2.imread('image/image10(key)/key2.png'),\n",
    "cv2.imread('image/image10(key)/key3.png'),\n",
    "cv2.imread('image/image10(key)/key4.png'),\n",
    "cv2.imread('image/image10(key)/key5.png')]"
   ]
  },
  {
   "cell_type": "code",
   "execution_count": 15,
   "metadata": {},
   "outputs": [
    {
     "data": {
      "text/plain": [
       "<matplotlib.image.AxesImage at 0x19c44924080>"
      ]
     },
     "execution_count": 15,
     "metadata": {},
     "output_type": "execute_result"
    },
    {
     "data": {
      "image/png": "[encoded data removed]",
      "text/plain": [
       "<Figure size 432x288 with 3 Axes>"
      ]
     },
     "metadata": {},
     "output_type": "display_data"
    }
   ],
   "source": [
    "#回転\n",
    "\n",
    "# 表示する画像のサイズ(変換前と同じサイズに指定)\n",
    "size = (raw_images[0][0].shape[0], raw_images[0][0].shape[1])\n",
    "# 回転の中心位置を表す座標（画像の中心に指定）\n",
    "center = (int(size[0]/2), int(size[1]/2))\n",
    "\n",
    "# 拡大･縮小の比率（拡大･縮小なしに指定）\n",
    "scale = 1.0\n",
    "\n",
    "angle=[None]*11\n",
    "rotation_matrix=[None]*11\n",
    "\n",
    "for k in range(11):\n",
    "    for i in range(10):\n",
    "        for j in range(5):\n",
    "            # 回転角度\n",
    "            angle[k] = 30*(k+1)\n",
    "            # 回転変換を表す行列をつくる\n",
    "            # (中心位置, 回転角度, 拡大･縮小の比率)\n",
    "            rotation_matrix[k] = cv2.getRotationMatrix2D(center, angle[k], scale)\n",
    "            # 回転変換を行う\n",
    "            # (画像, 回転行列, 変換後の画像サイズ)\n",
    "            raw_images[i+10*(k+1)][j] = cv2.warpAffine(raw_images[i][j], rotation_matrix[k],raw_images[i][j].shape[0:2],borderValue=(255,255,255))\n",
    "\n",
    "# rotateを行う前の画像を出力\n",
    "plt.subplot(1, 3, 1)\n",
    "plt.imshow(raw_images[9][0])\n",
    "# rotateを行った後の画像を出力\n",
    "plt.subplot(1, 3, 2)\n",
    "plt.imshow(raw_images[19][0])\n",
    "plt.subplot(1, 3, 3)\n",
    "plt.imshow(raw_images[119][0])\n"
   ]
  },
  {
   "cell_type": "code",
   "execution_count": 16,
   "metadata": {},
   "outputs": [
    {
     "data": {
      "text/plain": [
       "<matplotlib.image.AxesImage at 0x19f2fe34898>"
      ]
     },
     "execution_count": 16,
     "metadata": {},
     "output_type": "execute_result"
    },
    {
     "data": {
      "image/png": "[encoded data removed]",
      "text/plain": [
       "<Figure size 432x288 with 5 Axes>"
      ]
     },
     "metadata": {},
     "output_type": "display_data"
    }
   ],
   "source": [
    "#並進移動\n",
    "#変換後の画像サイズを指定\n",
    "#変換行列\n",
    "M1 = np.float32([[1,0,150],[0,1,150]])\n",
    "M2 = np.float32([[1,0,-150],[0,1,150]])\n",
    "M3 = np.float32([[1,0,150],[0,1,-150]])\n",
    "M4 = np.float32([[1,0,-150],[0,1,-150]])\n",
    "#並進移動の実行\n",
    "for i in range(110):\n",
    "    for j in range(5):\n",
    "        raw_images[i+110][j] = cv2.warpAffine(raw_images[i][j],M1,raw_images[i][j].shape[0:2],borderValue=(255,255,255))\n",
    "        raw_images[i+220][j] = cv2.warpAffine(raw_images[i][j],M2,raw_images[i][j].shape[0:2],borderValue=(255,255,255))\n",
    "        raw_images[i+330][j] = cv2.warpAffine(raw_images[i][j],M3,raw_images[i][j].shape[0:2],borderValue=(255,255,255))\n",
    "        raw_images[i+440][j] = cv2.warpAffine(raw_images[i][j],M4,raw_images[i][j].shape[0:2],borderValue=(255,255,255))\n",
    "\n",
    "#並進移動を行う前の画像を出力\n",
    "plt.subplot(1,5,1)\n",
    "plt.imshow(raw_images[0][0])\n",
    "#並進移動を行った後の画像を出力\n",
    "plt.subplot(1,5,2)\n",
    "plt.imshow(raw_images[110][0])\n",
    "plt.subplot(1,5,3)\n",
    "plt.imshow(raw_images[220][0])\n",
    "plt.subplot(1,5,4)\n",
    "plt.imshow(raw_images[330][0])\n",
    "plt.subplot(1,5,5)\n",
    "plt.imshow(raw_images[440][0])"
   ]
  },
  {
   "cell_type": "code",
   "execution_count": 17,
   "metadata": {
    "scrolled": true
   },
   "outputs": [],
   "source": [
    "\n",
    "# grayed_images=[[None for j in range(5)] for i in range(550)]\n",
    "\n",
    "# グレースケール化の実行\n",
    "for i in range(550):\n",
    "    for j in range(5):\n",
    "        raw_images[i][j] = cv2.cvtColor(raw_images[i][j],cv2.COLOR_RGB2GRAY)\n",
    "\n",
    "    \n",
    "# # グレースケール化を行う前の画像を出力\n",
    "# plt.subplot(1, 2, 1)\n",
    "# plt.imshow(raw_images[0][0], interpolation='nearest')\n",
    "# # グレースケール化を行った後の画像を出力\n",
    "# plt.subplot(1, 2, 2)\n",
    "# plt.imshow(grayed_images[0][0])\n",
    "# plt.gray()\n",
    "\n"
   ]
  },
  {
   "cell_type": "code",
   "execution_count": 18,
   "metadata": {},
   "outputs": [],
   "source": [
    "# 画像のリサイズ\n",
    "# (画像, 変換後のサイズを表すタプル)\n",
    "# raw_images=[[None for j in range(5)] for i in range(550)]\n",
    "\n",
    "for i in range(550):\n",
    "    for j in range(5):\n",
    "        raw_images[i][j] = cv2.resize(raw_images[i][j], (32, 32))\n",
    "\n",
    "# # リサイズを行う前の画像を出力\n",
    "# plt.subplot(1, 2, 1)\n",
    "# plt.imshow(raw_images[2][0])\n",
    "# # リサイズを行った後の画像を出力\n",
    "# plt.subplot(1, 2, 2)\n",
    "# plt.imshow(raw_images[2][0])\n"
   ]
  },
  {
   "cell_type": "markdown",
   "metadata": {},
   "source": [
    "## 配列の結合"
   ]
  },
  {
   "cell_type": "code",
   "execution_count": 19,
   "metadata": {
    "scrolled": true
   },
   "outputs": [
    {
     "data": {
      "image/png": "[encoded data removed]",
      "text/plain": [
       "<Figure size 432x288 with 10 Axes>"
      ]
     },
     "metadata": {},
     "output_type": "display_data"
    }
   ],
   "source": [
    "for i in range(10):\n",
    "    plt.subplot(1,10,i+1)\n",
    "    plt.imshow(raw_images[100+i*10][0])"
   ]
  },
  {
   "cell_type": "code",
   "execution_count": 20,
   "metadata": {},
   "outputs": [],
   "source": [
    "#starはすべて結合\n",
    "for j in range(54):\n",
    "    raw_images[0].extend(raw_images[10*(j+1)])\n",
    "    raw_images[10*(j+1)] = None"
   ]
  },
  {
   "cell_type": "code",
   "execution_count": 21,
   "metadata": {},
   "outputs": [
    {
     "data": {
      "text/plain": [
       "<matplotlib.image.AxesImage at 0x19c41b83780>"
      ]
     },
     "execution_count": 21,
     "metadata": {},
     "output_type": "execute_result"
    },
    {
     "data": {
      "image/png": "[encoded data removed]",
      "text/plain": [
       "<Figure size 432x288 with 1 Axes>"
      ]
     },
     "metadata": {},
     "output_type": "display_data"
    }
   ],
   "source": [
    "plt.imshow(raw_images[0][274])"
   ]
  },
  {
   "cell_type": "code",
   "execution_count": 22,
   "metadata": {},
   "outputs": [
    {
     "data": {
      "image/png": "[encoded data removed]",
      "text/plain": [
       "<Figure size 432x288 with 10 Axes>"
      ]
     },
     "metadata": {},
     "output_type": "display_data"
    }
   ],
   "source": [
    "for i in range(10):\n",
    "    plt.subplot(1,10,i+1)\n",
    "    plt.imshow(raw_images[31+i*10][0])"
   ]
  },
  {
   "cell_type": "code",
   "execution_count": 23,
   "metadata": {},
   "outputs": [],
   "source": [
    "#sunもすべて結合\n",
    "for j in range(54):\n",
    "    raw_images[1].extend(raw_images[1+10*(j+1)])\n",
    "    raw_images[1+10*(j+1)] = None"
   ]
  },
  {
   "cell_type": "code",
   "execution_count": 24,
   "metadata": {},
   "outputs": [
    {
     "data": {
      "text/plain": [
       "<matplotlib.image.AxesImage at 0x19c41d3af28>"
      ]
     },
     "execution_count": 24,
     "metadata": {},
     "output_type": "execute_result"
    },
    {
     "data": {
      "image/png": "[encoded data removed]",
      "text/plain": [
       "<Figure size 432x288 with 1 Axes>"
      ]
     },
     "metadata": {},
     "output_type": "display_data"
    }
   ],
   "source": [
    "plt.imshow(raw_images[1][274])"
   ]
  },
  {
   "cell_type": "code",
   "execution_count": 25,
   "metadata": {},
   "outputs": [
    {
     "data": {
      "image/png": "[encoded data removed]",
      "text/plain": [
       "<Figure size 432x288 with 10 Axes>"
      ]
     },
     "metadata": {},
     "output_type": "display_data"
    }
   ],
   "source": [
    "for i in range(10):\n",
    "    plt.subplot(1,10,i+1)\n",
    "    plt.imshow(raw_images[12+i*10][0])"
   ]
  },
  {
   "cell_type": "code",
   "execution_count": 26,
   "metadata": {},
   "outputs": [
    {
     "data": {
      "text/plain": [
       "<matplotlib.image.AxesImage at 0x19c41a3d358>"
      ]
     },
     "execution_count": 26,
     "metadata": {},
     "output_type": "execute_result"
    },
    {
     "data": {
      "image/png": "[encoded data removed]",
      "text/plain": [
       "<Figure size 432x288 with 1 Axes>"
      ]
     },
     "metadata": {},
     "output_type": "display_data"
    }
   ],
   "source": [
    "plt.imshow(raw_images[332][0])"
   ]
  },
  {
   "cell_type": "code",
   "execution_count": 27,
   "metadata": {},
   "outputs": [],
   "source": [
    "#catは(-30)0から30°まで結合\n",
    "for j in range(4):\n",
    "    #0°のcat\n",
    "    raw_images[2].extend(raw_images[112+110*j])\n",
    "    raw_images[112+110*j]=None\n",
    "for j in range(5):\n",
    "    #30°のcat\n",
    "    raw_images[2].extend(raw_images[12+110*j])\n",
    "    #-30°のcat\n",
    "    raw_images[2].extend(raw_images[102+110*j])\n",
    "    raw_images[12+110*j]=None\n",
    "    raw_images[102+110*j]=None\n"
   ]
  },
  {
   "cell_type": "code",
   "execution_count": 28,
   "metadata": {},
   "outputs": [
    {
     "data": {
      "text/plain": [
       "<matplotlib.image.AxesImage at 0x19c4194bd68>"
      ]
     },
     "execution_count": 28,
     "metadata": {},
     "output_type": "execute_result"
    },
    {
     "data": {
      "image/png": "[encoded data removed]",
      "text/plain": [
       "<Figure size 432x288 with 1 Axes>"
      ]
     },
     "metadata": {},
     "output_type": "display_data"
    }
   ],
   "source": [
    "plt.imshow(raw_images[2][50])"
   ]
  },
  {
   "cell_type": "code",
   "execution_count": 29,
   "metadata": {},
   "outputs": [
    {
     "data": {
      "image/png": "[encoded data removed]",
      "text/plain": [
       "<Figure size 432x288 with 5 Axes>"
      ]
     },
     "metadata": {},
     "output_type": "display_data"
    }
   ],
   "source": [
    "for i in range(5):\n",
    "    plt.subplot(1,5,i+1)\n",
    "    plt.imshow(raw_images[13+110*i][0])"
   ]
  },
  {
   "cell_type": "code",
   "execution_count": 30,
   "metadata": {},
   "outputs": [],
   "source": [
    "#appleも(-30)0から30°まで結合\n",
    "for j in range(4):\n",
    "    #0°のapple\n",
    "    raw_images[3].extend(raw_images[113+110*j])\n",
    "    raw_images[113+110*j]=None\n",
    "for j in range(5):\n",
    "    #30°のapple\n",
    "    raw_images[3].extend(raw_images[13+110*j])\n",
    "    #-30°のapple\n",
    "    raw_images[3].extend(raw_images[103+110*j])\n",
    "    raw_images[13+110*j]=None\n",
    "    raw_images[103+110*j]=None\n"
   ]
  },
  {
   "cell_type": "code",
   "execution_count": 31,
   "metadata": {},
   "outputs": [
    {
     "data": {
      "image/png": "[encoded data removed]",
      "text/plain": [
       "<Figure size 432x288 with 5 Axes>"
      ]
     },
     "metadata": {},
     "output_type": "display_data"
    }
   ],
   "source": [
    "for i in range(5):\n",
    "    plt.subplot(1,5,i+1)\n",
    "    plt.imshow(raw_images[14+110*i][0])"
   ]
  },
  {
   "cell_type": "code",
   "execution_count": 32,
   "metadata": {},
   "outputs": [],
   "source": [
    "#houseも(-30)0から30°まで結合\n",
    "for j in range(4):\n",
    "    #0°のhouse\n",
    "    raw_images[4].extend(raw_images[114+110*j])\n",
    "    raw_images[114+110*j]=None\n",
    "for j in range(5):\n",
    "    #30°のhouse\n",
    "    raw_images[4].extend(raw_images[14+110*j])\n",
    "    #-30°のhouse\n",
    "    raw_images[4].extend(raw_images[104+110*j])\n",
    "    raw_images[14+110*j]=None\n",
    "    raw_images[104+110*j]=None\n"
   ]
  },
  {
   "cell_type": "code",
   "execution_count": 33,
   "metadata": {},
   "outputs": [],
   "source": [
    "#smileも(-30)0から30°まで結合\n",
    "for j in range(4):\n",
    "    #0°のsmile\n",
    "    raw_images[5].extend(raw_images[115+110*j])\n",
    "    raw_images[115+110*j]=None\n",
    "for j in range(5):\n",
    "    #30°のsmile\n",
    "    raw_images[5].extend(raw_images[15+110*j])\n",
    "    #-30°のsmile\n",
    "    raw_images[5].extend(raw_images[105+110*j])\n",
    "    raw_images[15+110*j]=None\n",
    "    raw_images[105+110*j]=None"
   ]
  },
  {
   "cell_type": "code",
   "execution_count": 34,
   "metadata": {},
   "outputs": [],
   "source": [
    "#cubeも(-30)0から30°まで結合\n",
    "for j in range(4):\n",
    "    #0°のcube\n",
    "    raw_images[6].extend(raw_images[116+110*j])\n",
    "    raw_images[116+110*j]=None\n",
    "for j in range(5):\n",
    "    #30°のcube\n",
    "    raw_images[6].extend(raw_images[16+110*j])\n",
    "    #-30°のcube\n",
    "    raw_images[6].extend(raw_images[106+110*j])\n",
    "    raw_images[16+110*j]=None\n",
    "    raw_images[106+110*j]=None"
   ]
  },
  {
   "cell_type": "code",
   "execution_count": 35,
   "metadata": {},
   "outputs": [],
   "source": [
    "#cupも(-30)0から30°まで結合\n",
    "for j in range(4):\n",
    "    #0°のcup\n",
    "    raw_images[7].extend(raw_images[117+110*j])\n",
    "    raw_images[117+110*j]=None\n",
    "for j in range(5):\n",
    "    #30°のcup\n",
    "    raw_images[7].extend(raw_images[17+110*j])\n",
    "    #-30°のcup\n",
    "    raw_images[7].extend(raw_images[107+110*j])\n",
    "    raw_images[17+110*j]=None\n",
    "    raw_images[107+110*j]=None"
   ]
  },
  {
   "cell_type": "code",
   "execution_count": 36,
   "metadata": {},
   "outputs": [],
   "source": [
    "#Ryomaもすべて結合\n",
    "for j in range(54):\n",
    "    raw_images[8].extend(raw_images[8+10*(j+1)])\n",
    "    raw_images[8+10*(j+1)] = None"
   ]
  },
  {
   "cell_type": "code",
   "execution_count": 37,
   "metadata": {},
   "outputs": [],
   "source": [
    "#keyもすべて結合\n",
    "for j in range(54):\n",
    "    raw_images[9].extend(raw_images[9+10*(j+1)])\n",
    "    raw_images[9+10*(j+1)] = None"
   ]
  },
  {
   "cell_type": "code",
   "execution_count": 38,
   "metadata": {},
   "outputs": [],
   "source": [
    "while 1:\n",
    "    try:\n",
    "        raw_images.remove(None)\n",
    "    except:\n",
    "        break\n",
    "images=raw_images[:250]"
   ]
  },
  {
   "cell_type": "code",
   "execution_count": 39,
   "metadata": {},
   "outputs": [
    {
     "name": "stdout",
     "output_type": "stream",
     "text": [
      "342250\n",
      "684500\n",
      "saving...\n"
     ]
    }
   ],
   "source": [
    "x=[]\n",
    "y=[]\n",
    "for imglist in images:\n",
    "    for imgA in imglist:\n",
    "        for imgB in imglist:\n",
    "            x.append(np.array([imgA,imgB]).astype(\"uint8\"))\n",
    "            y.append(1)\n",
    "print(len(x))\n",
    "for i in range(len(images)):\n",
    "    imglist=images[i]\n",
    "    for img in imglist:\n",
    "        for i in range(len(imglist)):\n",
    "            index=i\n",
    "            while index==i:\n",
    "                index=random.randrange(len(images))\n",
    "            pair=random.choice(images[index])\n",
    "            x.append(np.array([img,pair]).astype(\"uint8\"))\n",
    "            y.append(0)\n",
    "print(len(x))\n",
    "x=np.array(x).transpose(0,2,3,1)\n",
    "y=np.array(y).astype(\"int8\")\n",
    "print(\"saving...\")\n",
    "import pickle\n",
    "with open(\"dataset.pickle\",\"wb\") as f:\n",
    "    pickle.dump({\"x\":x,\"y\":y},f)"
   ]
  },
  {
   "cell_type": "markdown",
   "metadata": {},
   "source": [
    "## CNNによる学習の実行"
   ]
  },
  {
   "cell_type": "code",
   "execution_count": 40,
   "metadata": {},
   "outputs": [],
   "source": [
    "#インポート\n",
    "import keras\n",
    "#階層構造のモデルを定義するためのメソッド\n",
    "from keras.models import Sequential\n",
    "#Denseは層の生成メソッド、Activationは活性化関数を定義するためのメソッド\n",
    "from keras.layers import Dense, Activation\n",
    "from keras.layers.convolutional import Conv2D\n",
    "from keras.layers.pooling import MaxPool2D\n",
    "from keras.layers import Flatten\n",
    "from keras.optimizers import Adam\n",
    "import tensorflow as tf"
   ]
  },
  {
   "cell_type": "code",
   "execution_count": 49,
   "metadata": {},
   "outputs": [],
   "source": [
    "#モデルの定義\n",
    "\n",
    "#-------\n",
    "#CNNモデル\n",
    "#-------\n",
    "\n",
    "model = Sequential()\n",
    "\n",
    "model.add(Conv2D(filters=64, input_shape=(32, 32, 2), kernel_size=(4, 4), strides=(1, 1), padding='same'))\n",
    "model.add(MaxPool2D(pool_size=(2, 2)))\n",
    "model.add(Activation('relu'))\n",
    "\n",
    "model.add(Conv2D(filters=128, kernel_size=(4, 4), strides=(1,1), padding='same'))\n",
    "model.add(MaxPool2D(pool_size=(2, 2)))\n",
    "model.add(Activation('relu'))\n",
    "\n",
    "model.add(Conv2D(filters=128, kernel_size=(4, 4), strides=(1, 1), padding='same'))\n",
    "model.add(MaxPool2D(pool_size=(2, 2)))\n",
    "model.add(Activation('relu'))\n",
    "\n",
    "model.add(Conv2D(filters=128, kernel_size=(4, 4), strides=(1, 1), padding='same'))\n",
    "model.add(MaxPool2D(pool_size=(2, 2)))\n",
    "model.add(Activation('relu'))\n",
    "\n",
    "model.add(Flatten())\n",
    "model.add(Dense(512))\n",
    "model.add(Activation('relu'))\n",
    "model.add(Dense(128))\n",
    "model.add(Activation('relu'))\n",
    "model.add(Dense(1))\n",
    "model.add(Activation('sigmoid'))"
   ]
  },
  {
   "cell_type": "code",
   "execution_count": 50,
   "metadata": {},
   "outputs": [],
   "source": [
    "# 同様に学習前にコンパイルします。\n",
    "model.compile(loss='mean_squared_error',\n",
    "              optimizer=Adam(),\n",
    "              metrics=['accuracy'])\n",
    "\n",
    "# ミニバッチに含まれるサンプル数を指定\n",
    "batch_size = 500\n",
    "\n",
    "# epoch数を指定\n",
    "n_epoch = 30"
   ]
  },
  {
   "cell_type": "code",
   "execution_count": 51,
   "metadata": {},
   "outputs": [
    {
     "data": {
      "text/plain": [
       "(700,)"
      ]
     },
     "execution_count": 51,
     "metadata": {},
     "output_type": "execute_result"
    }
   ],
   "source": [
    "np.array(raw_images).shape"
   ]
  },
  {
   "cell_type": "markdown",
   "metadata": {},
   "source": [
    "## 学習の実行"
   ]
  },
  {
   "cell_type": "code",
   "execution_count": 52,
   "metadata": {},
   "outputs": [],
   "source": [
    "# ホールド・アウト法によるデータの分割（train:test = 7:3）\n",
    "from sklearn.model_selection import train_test_split\n",
    "X_train, X_test, y_train, y_test = train_test_split(x, y, test_size = 0.3, random_state = 0)"
   ]
  },
  {
   "cell_type": "code",
   "execution_count": 53,
   "metadata": {},
   "outputs": [
    {
     "name": "stdout",
     "output_type": "stream",
     "text": [
      "(684500, 32, 32, 2)\n",
      "(684500,)\n"
     ]
    }
   ],
   "source": [
    "#データ全体のサンプル数を確認\n",
    "print(x.shape)\n",
    "print(y.shape)"
   ]
  },
  {
   "cell_type": "code",
   "execution_count": 54,
   "metadata": {},
   "outputs": [
    {
     "name": "stdout",
     "output_type": "stream",
     "text": [
      "(479150, 32, 32, 2)\n",
      "(479150,)\n"
     ]
    }
   ],
   "source": [
    "#trainデータのサンプル数を確認\n",
    "print(X_train.shape)\n",
    "print(y_train.shape)"
   ]
  },
  {
   "cell_type": "code",
   "execution_count": 55,
   "metadata": {},
   "outputs": [
    {
     "name": "stdout",
     "output_type": "stream",
     "text": [
      "(205350, 32, 32, 2)\n",
      "(205350,)\n"
     ]
    }
   ],
   "source": [
    "#testデータのサンプル数を確認\n",
    "print(X_test.shape)\n",
    "print(y_test.shape)"
   ]
  },
  {
   "cell_type": "code",
   "execution_count": null,
   "metadata": {},
   "outputs": [
    {
     "name": "stdout",
     "output_type": "stream",
     "text": [
      "Train on 479150 samples, validate on 205350 samples\n",
      "Epoch 1/30\n",
      "479150/479150 [==============================] - 3041s - loss: 0.4999 - acc: 0.5001 - val_loss: 0.5001 - val_acc: 0.4999\n",
      "Epoch 2/30\n",
      "299000/479150 [=================>............] - ETA: 993s - loss: 0.4997 - acc: 0.5003"
     ]
    }
   ],
   "source": [
    "#学習の開始\n",
    "hist = model.fit(X_train,\n",
    "                 y_train,\n",
    "                 epochs=n_epoch,\n",
    "                 validation_data=(X_test, y_test),\n",
    "                 verbose=1,\n",
    "                 batch_size=batch_size)"
   ]
  },
  {
   "cell_type": "code",
   "execution_count": null,
   "metadata": {},
   "outputs": [],
   "source": [
    "# モデルの保存\n",
    "# モデルはjson形式、パラメータはhdf5形式でそれぞれ保存（通常はパラメータだけ保存すれば問題ない）\n",
    "\n",
    "# モデルをJSON形式に変換。あとはテキストを保存する要領で書き出し可能。\n",
    "json_string = model.to_json()\n",
    "with open('imgate.model', 'w') as f:\n",
    "    f.write(json_string)\n",
    "    \n",
    "# モデルパラメータの書き出し（Kerasにおいてはこちらの方が重要）\n",
    "model.save_weights('param.hdf5')\n",
    "print('Saved the model.')"
   ]
  }
 ],
 "metadata": {
  "kernelspec": {
   "display_name": "Python 3",
   "language": "python",
   "name": "python3"
  },
  "language_info": {
   "codemirror_mode": {
    "name": "ipython",
    "version": 3
   },
   "file_extension": ".py",
   "mimetype": "text/x-python",
   "name": "python",
   "nbconvert_exporter": "python",
   "pygments_lexer": "ipython3",
   "version": "3.6.5"
  },
  "varInspector": {
   "cols": {
    "lenName": 16,
    "lenType": 16,
    "lenVar": 40
   },
   "kernels_config": {
    "python": {
     "delete_cmd_postfix": "",
     "delete_cmd_prefix": "del ",
     "library": "var_list.py",
     "varRefreshCmd": "print(var_dic_list())"
    },
    "r": {
     "delete_cmd_postfix": ") ",
     "delete_cmd_prefix": "rm(",
     "library": "var_list.r",
     "varRefreshCmd": "cat(var_dic_list()) "
    }
   },
   "types_to_exclude": [
    "module",
    "function",
    "builtin_function_or_method",
    "instance",
    "_Feature"
   ],
   "window_display": false
  }
 },
 "nbformat": 4,
 "nbformat_minor": 2
}
